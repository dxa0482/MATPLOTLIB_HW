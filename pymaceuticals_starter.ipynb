{
 "cells": [
  {
   "cell_type": "markdown",
   "metadata": {},
   "source": [
    "## Observations and Insights "
   ]
  },
  {
   "cell_type": "markdown",
   "metadata": {},
   "source": []
  },
  {
   "cell_type": "code",
   "execution_count": null,
   "metadata": {
    "scrolled": false
   },
   "outputs": [],
   "source": [
    "# Dependencies and Setup\n",
    "import matplotlib.pyplot as plt\n",
    "import pandas as pd\n",
    "import scipy.stats as st\n",
    "import numpy as np\n",
    "import seaborn as sn\n",
    "\n",
    "# Study data files\n",
    "mouse_metadata_path = \"data/Mouse_metadata.csv\"\n",
    "study_results_path = \"data/Study_results.csv\"\n",
    "\n",
    "# Read the mouse data and the study results\n",
    "mouse_metadata = pd.read_csv(mouse_metadata_path)\n",
    "study_results = pd.read_csv(study_results_path)\n",
    "\n",
    "# Combine the data into a single dataset\n",
    "\n",
    "merged_df = pd.merge(mouse_metadata, study_results, on = (\"Mouse ID\" , \"Mouse ID\"))\n",
    "\n",
    "\n",
    "# Display the data table for preview\n",
    "\n",
    "merged_df"
   ]
  },
  {
   "cell_type": "code",
   "execution_count": null,
   "metadata": {},
   "outputs": [],
   "source": [
    "# Checking the number of mice.\n",
    "mice_num = merged_df[\"Mouse ID\"].nunique()\n",
    "\n",
    "mice_num"
   ]
  },
  {
   "cell_type": "code",
   "execution_count": null,
   "metadata": {},
   "outputs": [],
   "source": [
    "# Getting the duplicate mice by ID number that shows up for Mouse ID and Timepoint. \n",
    "\n",
    "dup_mice_ids = merged_df.loc[merged_df.duplicated(['Timepoint', 'Mouse ID']),'Mouse ID'].unique()\n",
    "\n",
    "dup_mice_ids"
   ]
  },
  {
   "cell_type": "code",
   "execution_count": null,
   "metadata": {},
   "outputs": [],
   "source": [
    "# Optional: Get all the data for the duplicate mouse ID. \n",
    "\n",
    "duplicate_mice_data = merged_df.loc[merged_df[\"Mouse ID\"] == \"g989\"]\n",
    "\n",
    "duplicate_mice_data"
   ]
  },
  {
   "cell_type": "code",
   "execution_count": null,
   "metadata": {},
   "outputs": [],
   "source": [
    "# Create a clean DataFrame by dropping the duplicate mouse by its ID.\n",
    "clean_df = merged_df[merged_df[\"Mouse ID\"]!= 'g989']\n",
    "\n",
    "clean_df.head() "
   ]
  },
  {
   "cell_type": "code",
   "execution_count": null,
   "metadata": {},
   "outputs": [],
   "source": [
    "# Checking the number of mice in the clean DataFrame.\n",
    "mice_num = clean_df[\"Mouse ID\"].nunique()\n",
    "\n",
    "mice_num"
   ]
  },
  {
   "cell_type": "markdown",
   "metadata": {},
   "source": [
    "## Summary Statistics"
   ]
  },
  {
   "cell_type": "code",
   "execution_count": null,
   "metadata": {},
   "outputs": [],
   "source": [
    "# Generate a summary statistics table of mean, median, variance, standard deviation, and SEM of the tumor volume for each regimen\n",
    "\n",
    "# Use groupby and summary statistical methods to calculate the following properties of each drug regimen: \n",
    "# mean, median, variance, standard deviation, and SEM of the tumor volume. \n",
    "# Assemble the resulting series into a single summary dataframe.\n",
    "\n",
    "#First we groupby drug regimen\n",
    "grouped_regimen_df = clean_df.groupby([\"Drug Regimen\"])\n",
    "grouped_regimen_df.head()\n",
    "\n",
    "#Now calculating the following properties of each drug regimen(for grouped df the following formula to be used, np cant be used)\n",
    "mean_group = grouped_regimen_df[\"Tumor Volume (mm3)\"].mean()\n",
    "median_group =grouped_regimen_df[\"Tumor Volume (mm3)\"].median()\n",
    "variance_group=grouped_regimen_df[\"Tumor Volume (mm3)\"].var()\n",
    "standard_dev_group=grouped_regimen_df[\"Tumor Volume (mm3)\"].std()\n",
    "sem_group=grouped_regimen_df[\"Tumor Volume (mm3)\"].sem()\n",
    "\n",
    "#Create a dataframe with the above calculated datas\n",
    "summary_df=pd.DataFrame({\"Tumor Volume (mm3)Mean\":mean_group, \n",
    "                         \"Tumor Volume (mm3)Median\":median_group, \n",
    "                         \"Tumor Volume (mm3)VAR\":variance_group, \n",
    "                         \"Tumor Volume (mm3)STD\":standard_dev_group,\n",
    "                         \"Tumor Volume (mm3)SEM\":sem_group})\n",
    "#Displaying the dataframe\n",
    "summary_df "
   ]
  },
  {
   "cell_type": "code",
   "execution_count": null,
   "metadata": {},
   "outputs": [],
   "source": [
    "# Generate a summary statistics table of mean, median, variance, standard deviation, and SEM of the tumor volume for each regimen\n",
    "\n",
    "# Using the aggregation method, produce the same summary statistics in a single line\n",
    "\n",
    "#First,we have to groupby drug regimen\n",
    "grouped_regimen_df = clean_df.groupby([\"Drug Regimen\"])\n",
    "\n",
    "#create a dataframe \n",
    "summary_two_df = grouped_regimen_df.agg(['mean','median','var','std','sem'])[\"Tumor Volume (mm3)\"]\n",
    "summary_two_df"
   ]
  },
  {
   "cell_type": "markdown",
   "metadata": {},
   "source": [
    "## Bar and Pie Charts"
   ]
  },
  {
   "cell_type": "code",
   "execution_count": null,
   "metadata": {},
   "outputs": [],
   "source": [
    "# Generate a bar plot showing the total number of timepoints for all mice tested for each drug regimen using Pandas.\n",
    "\n",
    "# Set x axis (drugs) and y axis (data_points)\n",
    "drugs = drug_df.index\n",
    "data_points = drug_df['Data Points']"
   ]
  },
  {
   "cell_type": "code",
   "execution_count": null,
   "metadata": {},
   "outputs": [],
   "source": [
    "# Generate bar plot\n",
    "drug_bar = clean_df[\"Drug Regimen\"].value_counts().plot.bar(width =0.5)\n",
    "\n",
    "# Set labels \n",
    "drug_bar.set_xlabel(\"Drug Regimen\")\n",
    "drug_bar.set_ylabel(\"Number of Data Points\")\n",
    "drug_bar.set_title(\"Number of Data Points for Each Treatment Regimen\")\n",
    "\n",
    "#drug_bar.count().head(10)"
   ]
  },
  {
   "cell_type": "code",
   "execution_count": null,
   "metadata": {},
   "outputs": [],
   "source": [
    "# Generate a bar plot showing the total number of timepoints for all mice tested for each drug regimen using pyplot.\n",
    "\n"
   ]
  },
  {
   "cell_type": "code",
   "execution_count": null,
   "metadata": {},
   "outputs": [],
   "source": []
  },
  {
   "cell_type": "code",
   "execution_count": null,
   "metadata": {},
   "outputs": [],
   "source": []
  },
  {
   "cell_type": "code",
   "execution_count": null,
   "metadata": {},
   "outputs": [],
   "source": [
    "# Generate a pie plot showing the distribution of female versus male mice using Pandas\n",
    "\n",
    "total_mice = clean_df[\"Mouse ID\"].nunique()\n",
    "gender_group = clean_df.groupby([\"Sex\"])\n",
    "#gender_group.count().head(20)\n",
    "gender_count = gender_group[\"Mouse ID\"].nunique()\n",
    "#gender_count\n",
    "\n",
    "percent_by_gender = total_mice/ gender_count *100\n",
    "\n",
    "gender_bar_df = pd.DataFrame({\"% BY GENDER\":percent_by_gender,\"TOTAL\":gender_count})\n",
    "\n",
    "gender_pie_chart = gender_bar_df.plot.pie(y=\"% BY GENDER\", figsize=(5,5), startangle=140, shadow = True, autopct=\"%1.1f%%\")"
   ]
  },
  {
   "cell_type": "code",
   "execution_count": null,
   "metadata": {},
   "outputs": [],
   "source": [
    "# Generate a pie plot showing the distribution of female versus male mice using pyplot\n",
    "\n",
    "plt.pie(percent_by_gender, startangle=140, shadow = True, autopct=\"%1.1f%%\")"
   ]
  },
  {
   "cell_type": "markdown",
   "metadata": {},
   "source": [
    "## Quartiles, Outliers and Boxplots"
   ]
  },
  {
   "cell_type": "code",
   "execution_count": null,
   "metadata": {},
   "outputs": [],
   "source": [
    "# Calculate the final tumor volume of each mouse across four of the treatment regimens:  \n",
    "# Capomulin, Ramicane, Infubinol, and Ceftamin\n",
    "\n",
    "# Start by getting the last (greatest) timepoint for each mouse\n",
    "\n",
    "max_time_df = pd.DataFrame(clean_df.groupby('Mouse ID')['Timepoint'].max().sort_values().reset_index().rename(columns={'Timepoint': 'max_timepoint'}))\n",
    "max_time_df\n",
    "\n",
    "# Merge this group df with the original dataframe to get the tumor volume at the last timepoint\n",
    "merge_max_time_df = pd.merge(max_time_df, clean_df, on='Mouse ID')\n",
    "\n",
    "\n",
    "merge_max_time_df"
   ]
  },
  {
   "cell_type": "code",
   "execution_count": null,
   "metadata": {},
   "outputs": [],
   "source": [
    "# Put treatments into a list for for loop (and later for plot labels)\n",
    "\n",
    "final_drugs = ['Capomulin', 'Ramicane', 'Infubinol', 'Ceftamin']\n",
    "\n",
    "# Create empty list to fill with tumor vol data (for plotting)\n",
    "\n",
    "drug_values = []\n",
    "# Calculate the IQR and quantitatively determine if there are any potential outliers. \n",
    "for drug in final_drugs:\n",
    "    \n",
    "    temp_merged_df = merge_max_time_df.loc[merge_max_time_df['Drug Regimen'] == drug]\n",
    "    \n",
    "    # Create subset dataframes that narrow down to rows only containing the final timepoint for each regimen\n",
    "    final_volume_df = temp_merged_df.loc[temp_merged_df['Timepoint'] == temp_merged_df['max_timepoint']]\n",
    "    \n",
    "    # Create a series that consists of all final volume values for each regimen\n",
    "    values = final_volume_df['Tumor Volume (mm3)']\n",
    "    drug_values.append(values)\n",
    "    \n",
    "    # Calculate and print the interquartile range (IQR) for each regimen\n",
    "    quartiles = values.quantile([.25,.5,.75])\n",
    "    lowerq = quartiles[0.25]\n",
    "    upperq = quartiles[0.75]\n",
    "    iqr = upperq-lowerq\n",
    "    print(f'IQR for {drug}: {iqr}')\n",
    "    \n",
    "    # Find upper and lower bounds to help identify outliers for each regimen\n",
    "    lower_bound = lowerq - (1.5*iqr)\n",
    "    upper_bound = upperq + (1.5*iqr)\n",
    "    print(f'Lower Bound for {drug}: {lower_bound}')\n",
    "    print(f'Upper Bound for {drug}: {upper_bound}')\n",
    "    \n",
    "    # Quantitatively check for outliers\n",
    "    outliers_count = (values.loc[(final_volume_df['Tumor Volume (mm3)'] >= upper_bound) | \n",
    "                                        (final_volume_df['Tumor Volume (mm3)'] <= lower_bound)]).count()\n",
    "    print(f'Number of {drug} outliers: {outliers_count}')\n",
    "    "
   ]
  },
  {
   "cell_type": "code",
   "execution_count": null,
   "metadata": {},
   "outputs": [],
   "source": [
    "# Generate a box plot of the final tumor volume of each mouse across four regimens of interest\n",
    "plt.boxplot(drug_values)\n",
    "\n",
    "plt.title('Final Tumor Volume by Drug')\n",
    "plt.ylabel('Final Tumor Volume (mm3)')\n",
    "plt.xticks([1, 2, 3, 4], ['Capomulin', 'Ramicane', 'Infubinol', 'Ceftamin'])"
   ]
  },
  {
   "cell_type": "markdown",
   "metadata": {},
   "source": [
    "## Line and Scatter Plots"
   ]
  },
  {
   "cell_type": "code",
   "execution_count": null,
   "metadata": {},
   "outputs": [],
   "source": [
    "# Generate a line plot of tumor volume vs. time point for a mouse treated with Capomulin\n",
    "# find a mouse treated with CAP\n",
    "cap_mouse = merge_max_time_df.loc[merge_max_time_df[\"Drug Regimen\"] == \"Capomulin\"].reset_index()\n",
    "\n",
    "cap_mouse_1 = cap_mouse.loc[cap_mouse[\"Mouse ID\"] == \"l509\"]\n",
    "cap_mouse_1\n",
    "\n",
    "plt.plot(cap_mouse_1[\"Timepoint\"], cap_mouse_1[\"Tumor Volume (mm3)\"], marker = 'x')\n",
    "\n",
    "\n",
    "plt.xlabel(\"TIMEPOINT\")\n",
    "plt.ylabel(\"TUMOR VOLUME\")\n",
    "plt.title(\"MOUSE L509\")\n",
    "\n",
    "# cap_mouse = merge_max_time_df.loc[merge_max_time_df[\"Drug Regimen\"] == \"Capomulin\"].reset_index()\n",
    "# cap_mouse"
   ]
  },
  {
   "cell_type": "code",
   "execution_count": null,
   "metadata": {},
   "outputs": [],
   "source": [
    "# Generate a scatter plot of average tumor volume vs. mouse weight for the Capomulin regimen\n",
    "cap_mouse_tumor_vol = pd.DataFrame(cap_mouse.groupby('Mouse ID')['Tumor Volume (mm3)'].mean().sort_values()).reset_index().rename(columns={'Tumor Volume (mm3)': 'avg_tumor_vol'})\n",
    "cap_mouse_tumor_vol\n",
    "\n",
    "cap_mouse_weight = pd.DataFrame(cap_mouse.groupby('Mouse ID')['Weight (g)'].mean())\n",
    "cap_mouse_weight\n",
    "\n",
    "cap_mouse_vol_weight = pd.merge(cap_mouse_tumor_vol,cap_mouse_weight, on='Mouse ID')\n",
    "cap_mouse_vol_weight\n",
    "\n",
    "cap_mouse_vol_weight.plot(kind=\"scatter\", x=\"Weight (g)\", y=\"avg_tumor_vol\", grid=True, figsize=(8,8), title = \"AVG TUMOR VOLUME BY WEIGHT\")\n",
    "plt.show()\n"
   ]
  },
  {
   "cell_type": "markdown",
   "metadata": {},
   "source": [
    "## Correlation and Regression"
   ]
  },
  {
   "cell_type": "code",
   "execution_count": null,
   "metadata": {},
   "outputs": [],
   "source": [
    "# Calculate the correlation coefficient and linear regression model \n",
    "# for mouse weight and average tumor volume for the Capomulin regimen\n",
    "\n",
    "\n",
    "plt.scatter(tumor_volume,weight)\n",
    "plt.plot(tumor_volume,vc_fit,\"--\")\n",
    "\n",
    "plt.annotate(line_eq,(40,17),fontsize=15,color=\"red\")\n",
    "\n",
    "\n",
    "plt.xlabel(\"WEIGHT (g)\")\n",
    "plt.ylabel(\"AVERAGE TUMOR VOLUME (mm3)\")\n",
    "plt.title('AVERGE TUMOR VOLUME BY WEIGHT')\n",
    "plt.show()\n",
    "# for mouse weight and average tumor volume for the Capomulin regimen"
   ]
  },
  {
   "cell_type": "code",
   "execution_count": null,
   "metadata": {},
   "outputs": [],
   "source": []
  },
  {
   "cell_type": "code",
   "execution_count": null,
   "metadata": {},
   "outputs": [],
   "source": []
  }
 ],
 "metadata": {
  "anaconda-cloud": {},
  "kernelspec": {
   "display_name": "Python 3 (ipykernel)",
   "language": "python",
   "name": "python3"
  },
  "language_info": {
   "codemirror_mode": {
    "name": "ipython",
    "version": 3
   },
   "file_extension": ".py",
   "mimetype": "text/x-python",
   "name": "python",
   "nbconvert_exporter": "python",
   "pygments_lexer": "ipython3",
   "version": "3.9.7"
  }
 },
 "nbformat": 4,
 "nbformat_minor": 4
}
